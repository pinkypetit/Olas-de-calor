{
 "cells": [
  {
   "cell_type": "code",
   "execution_count": 1,
   "id": "810d363d",
   "metadata": {},
   "outputs": [],
   "source": [
    "%matplotlib inline\n",
    "import numpy as np\n",
    "import pandas as pd\n",
    "import xarray as xr\n",
    "import math as mt\n",
    "import netCDF4 as nc\n",
    "import cartopy.crs as ccrs\n",
    "from matplotlib import pyplot as plt\n",
    "import seaborn as sns\n"
   ]
  },
  {
   "cell_type": "code",
   "execution_count": 2,
   "id": "7f3d2d62",
   "metadata": {},
   "outputs": [],
   "source": [
    "data0 = #data primer intervalo a analizar\n",
    "data1 = #data segundo intervalo a analizar"
   ]
  },
  {
   "cell_type": "code",
   "execution_count": 3,
   "id": "ddc4d08f",
   "metadata": {},
   "outputs": [],
   "source": [
    "def RR_no(data0,data1):\n",
    "    I = np.sort(data0.flatten())[::-1] #ordeno los primeros años de mayor a menor\n",
    "    F = np.sort(data1.flatten())[::-1] #ordeno los ultimos años de mayor a menor\n",
    "    n = len(I) #defino el tamaño\n",
    "    pi = (np.arange(1,n+1)/n) #defino la probablilidad\n",
    "    pf = np.zeros([n])\n",
    "    for i in range(n):\n",
    "        pf[i] = sum(1 for j in F if j>I[i])/n\n",
    "    RR = [k / l for k, l in zip(pf, pi)]\n",
    "    return I, RR\n",
    "    "
   ]
  },
  {
   "cell_type": "code",
   "execution_count": 4,
   "id": "0336d547",
   "metadata": {},
   "outputs": [],
   "source": [
    "bins = 30"
   ]
  },
  {
   "cell_type": "code",
   "execution_count": 5,
   "id": "5ba4b2a7",
   "metadata": {},
   "outputs": [],
   "source": [
    "min_ = min(np.min(data0),np.min(data1))\n",
    "max_ = max(np.max(data0),np.max(data1))\n",
    "D = max_ -min_ \n",
    "Bins = np.arange(min_,max_,D / bins)"
   ]
  },
  {
   "cell_type": "code",
   "execution_count": 6,
   "id": "3cb7b83b",
   "metadata": {},
   "outputs": [],
   "source": [
    "def RR(data0, data1, bins = bins):\n",
    "    I = np.sort(data0.flatten())[::-1]\n",
    "    F = np.sort(data1.flatten())[::-1]\n",
    "    n = len(I)\n",
    "    pi = np.zeros(bins)\n",
    "    pf = np.zeros(bins)\n",
    "\n",
    "    for i in range(bins):\n",
    "        pi[i] = (sum(1 for j in I if j > Bins[i])) / n\n",
    "        pf[i] = (sum(1 for j in F if j > Bins[i])) / n\n",
    "    RR = [k / l if l != 0 else np.nan for k, l in zip(pf, pi)]  # Added a check for division by zero\n",
    "    return RR"
   ]
  },
  {
   "cell_type": "code",
   "execution_count": 7,
   "id": "1ce4a71e",
   "metadata": {},
   "outputs": [
    {
     "name": "stderr",
     "output_type": "stream",
     "text": [
      "/Users/tid/anaconda3/lib/python3.10/site-packages/numpy/lib/nanfunctions.py:1563: RuntimeWarning: All-NaN slice encountered\n",
      "  return function_base._ureduce(a,\n"
     ]
    }
   ],
   "source": [
    "# CALCULO BARRAS DE ERROR\n",
    "iteraciones = 1000\n",
    "bs = np.zeros([bins, iteraciones])\n",
    "for i in range(iteraciones):\n",
    "    sample0 = data0[np.random.choice(data0.shape[0], data0.shape[0], replace=True)]\n",
    "    sample1 = data1[np.random.choice(data1.shape[0], data1.shape[0], replace=True)]\n",
    "\n",
    "    bs[:,i] = RR(sample0,sample1)\n",
    "    \n",
    "# Calcular los percentiles para cada bin\n",
    "percentiles_values = np.nanpercentile(bs, [5,50,95], axis=1)\n",
    "\n",
    "# Separar los percentiles en dos arrays diferentes\n",
    "percentil_5 = percentiles_values[0]\n",
    "percentil_50 = percentiles_values[1]\n",
    "percentil_95 = percentiles_values[2]"
   ]
  },
  {
   "cell_type": "code",
   "execution_count": 31,
   "id": "2615eb23",
   "metadata": {},
   "outputs": [
    {
     "data": {
      "image/png": "[encoded data removed]",
      "text/plain": [
       "<Figure size 300x600 with 1 Axes>"
      ]
     },
     "metadata": {},
     "output_type": "display_data"
    }
   ],
   "source": [
    "# Datos\n",
    "P_5 = percentil_5\n",
    "P_50 = percentil_50\n",
    "P_95 = percentil_95\n",
    "\n",
    "# Calcular las barras de error\n",
    "error_lower = [p50 - p5 for p50, p5 in zip(P_50, P_5)]\n",
    "error_upper = [p95 - p50 for p95, p50 in zip(P_95, P_50)]\n",
    "\n",
    "# Ancho de las barras\n",
    "bar_width = 0.35\n",
    "\n",
    "# Crear la figura y el eje\n",
    "fig, ax = plt.subplots(figsize=(3, 6))\n",
    "\n",
    "# Grafica P_50 como una línea principal\n",
    "plt.plot(Bins, P_50, label='Relacion de riesgo', color='blue')\n",
    "\n",
    "# Rellena el área entre P_5 y P_95 para mostrar los márgenes de error\n",
    "plt.fill_between(Bins, P_5, P_95, color='lightgray', alpha=0.5, label='CI del 90%')\n",
    "\n",
    "# Mostrar la leyenda\n",
    "ax.legend(loc='upper left')\n",
    "# Mostrar el gráfico\n",
    "plt.show()\n",
    "\n"
   ]
  },
  {
   "cell_type": "code",
   "execution_count": null,
   "id": "27657dd8",
   "metadata": {},
   "outputs": [],
   "source": []
  },
  {
   "cell_type": "code",
   "execution_count": null,
   "id": "a25a9984",
   "metadata": {},
   "outputs": [],
   "source": []
  },
  {
   "cell_type": "code",
   "execution_count": null,
   "id": "291786b6",
   "metadata": {},
   "outputs": [],
   "source": []
  },
  {
   "cell_type": "code",
   "execution_count": null,
   "id": "02ebbd47",
   "metadata": {},
   "outputs": [],
   "source": []
  },
  {
   "cell_type": "code",
   "execution_count": null,
   "id": "1a2c9343",
   "metadata": {},
   "outputs": [],
   "source": []
  },
  {
   "cell_type": "code",
   "execution_count": null,
   "id": "84bbb79b",
   "metadata": {},
   "outputs": [],
   "source": []
  },
  {
   "cell_type": "code",
   "execution_count": null,
   "id": "56c9fad7",
   "metadata": {},
   "outputs": [],
   "source": []
  }
 ],
 "metadata": {
  "kernelspec": {
   "display_name": "Python 3 (ipykernel)",
   "language": "python",
   "name": "python3"
  },
  "language_info": {
   "codemirror_mode": {
    "name": "ipython",
    "version": 3
   },
   "file_extension": ".py",
   "mimetype": "text/x-python",
   "name": "python",
   "nbconvert_exporter": "python",
   "pygments_lexer": "ipython3",
   "version": "3.10.12"
  }
 },
 "nbformat": 4,
 "nbformat_minor": 5
}
